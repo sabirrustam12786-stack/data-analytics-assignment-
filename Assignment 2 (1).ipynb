{
 "cells": [
  {
   "cell_type": "markdown",
   "id": "5cb2ecfd-b18b-4388-bfea-56ae73b35c51",
   "metadata": {},
   "source": [
    "Q1. Write a program that takes two numbers (a = 15 , b = 4) and prints their:\n",
    "\n",
    "\n",
    "- Sum\n",
    "\n",
    "- Difference\n",
    "\n",
    "- Product\n",
    "\n",
    "- Division\n",
    "\n",
    "- Floor Division\n",
    "\n",
    "- Modulus"
   ]
  },
  {
   "cell_type": "code",
   "execution_count": null,
   "id": "36a052a5",
   "metadata": {},
   "outputs": [],
   "source": []
  },
  {
   "cell_type": "code",
   "execution_count": null,
   "id": "53dbb52c",
   "metadata": {},
   "outputs": [],
   "source": []
  },
  {
   "cell_type": "markdown",
   "id": "0a22f7b4",
   "metadata": {},
   "source": []
  },
  {
   "cell_type": "markdown",
   "id": "e618f6d3-ca17-4ece-b8c9-203c94ffe413",
   "metadata": {},
   "source": [
    "Q2. Check the type and convert: \n",
    "(num1 = 10, num2 = 5.6, num3 = 4.43, num4='23')\n",
    "\n",
    "- Integer to float\n",
    "\n",
    "- Float to integer\n",
    "\n",
    "- Float to String\n",
    "\n",
    "- String to Integer"
   ]
  },
  {
   "cell_type": "markdown",
   "id": "a3e57ec3-1bd8-475c-b228-29ec62354019",
   "metadata": {},
   "source": [
    "Q3. Write a code to store your favorite food in a variable and print it."
   ]
  },
  {
   "cell_type": "markdown",
   "id": "08809348-2b9b-4f1c-8c07-e4ad0c5275fc",
   "metadata": {},
   "source": [
    "Q4. \"I have 22 apples and 33 mangoes. How many fruits do I have in total?\"\n",
    "\n",
    "apple = '22'\n",
    "\n",
    "mangoes = 33\n",
    "\n"
   ]
  },
  {
   "cell_type": "markdown",
   "id": "e81b7161-6fcd-496e-bd19-62fa05f4a79d",
   "metadata": {},
   "source": [
    "Q5. Store in a varibale: Write Your name , Your age, Add 1 to your age using a variable, Print final age"
   ]
  },
  {
   "cell_type": "markdown",
   "id": "3921c9e1-bcaa-4d48-9d8c-793272315184",
   "metadata": {},
   "source": [
    "Q6.\n",
    "\n",
    "a = 2\n",
    "\n",
    "b = 1\n",
    "\n",
    "c = 6\n",
    "\n",
    "d = 3\n",
    "\n",
    "- Add a and b\n",
    "\n",
    "- Subtract c and a\n",
    "\n",
    "- Multiply d and b\n",
    "\n",
    "- Divide c and d (float division)\n",
    "\n",
    "- Find modulus of c divided by d\n",
    "\n",
    "- Square of (d+a)"
   ]
  },
  {
   "cell_type": "markdown",
   "id": "ed2ae319-5319-4ef4-855d-30ccf8ad87e7",
   "metadata": {},
   "source": [
    "Q7.\n",
    "\n",
    "a = '2'\n",
    "\n",
    "b = '11'\n",
    "\n",
    "c = 6.3\n",
    "\n",
    "- Convert a to integer then add to c\n",
    "\n",
    "- Convert b to float then multiply by c\n",
    "\n",
    "- Convert c to integer then add to c"
   ]
  },
  {
   "cell_type": "markdown",
   "id": "7495b654-f93f-4db6-8c13-ead57196163b",
   "metadata": {},
   "source": [
    "Q8.\n",
    "\n",
    "You were 20 years old in the year 2020.\n",
    "Now add 5 more years to your age.\n",
    "What is your current age now?\n",
    "\n",
    "Store age in a variable called age. Print final output in same variable"
   ]
  },
  {
   "cell_type": "markdown",
   "id": "fb18f8d4-d23c-46c7-a1d3-da578190301c",
   "metadata": {},
   "source": [
    "Q9.\n",
    "\n",
    "You had 12 books, and you gave 4 to your friend.\n",
    "How many books do you have now?\n",
    "\n",
    "Store books in a variable called books. Print final output in same variable"
   ]
  },
  {
   "cell_type": "markdown",
   "id": "9af6924c-6725-459a-b998-8d13fca40fb3",
   "metadata": {},
   "source": [
    "Q10.\n",
    "\n",
    "You baked 5 cookies. You baked 3 times more cookies today.\n",
    "How many cookies did you bake today?\n",
    "\n",
    "Store cookies in a variable called cookies. Print final output in same variable"
   ]
  },
  {
   "cell_type": "code",
   "execution_count": null,
   "id": "9f1e7f39-0b1c-41f0-8ed3-cb348ec4c525",
   "metadata": {},
   "outputs": [],
   "source": []
  }
 ],
 "metadata": {
  "kernelspec": {
   "display_name": "Python 3 (ipykernel)",
   "language": "python",
   "name": "python3"
  },
  "language_info": {
   "codemirror_mode": {
    "name": "ipython",
    "version": 3
   },
   "file_extension": ".py",
   "mimetype": "text/x-python",
   "name": "python",
   "nbconvert_exporter": "python",
   "pygments_lexer": "ipython3",
   "version": "3.12.7"
  }
 },
 "nbformat": 4,
 "nbformat_minor": 5
}
