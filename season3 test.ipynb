{
 "cells": [
  {
   "cell_type": "markdown",
   "id": "ba76a0ef-983b-41cf-8d29-d5f80576fbf5",
   "metadata": {},
   "source": [
    "Q1\n",
    "\n",
    "animals = [\"cat\", \"dog\", \"rabbit\", \"tiger\", \"elephant\"]\n",
    "\n",
    "- Print \"tiger\" by indexing\n",
    "- Print \"rabbit by negative indexing\n",
    "- Print \"rabbit\" to \"elephant\" by slicing"
   ]
  },
  {
   "cell_type": "code",
   "execution_count": 3,
   "id": "c0c53005-9c09-4cbf-9812-9564d30bf5cc",
   "metadata": {},
   "outputs": [
    {
     "data": {
      "text/plain": [
       "'tiger'"
      ]
     },
     "execution_count": 3,
     "metadata": {},
     "output_type": "execute_result"
    }
   ],
   "source": [
    "animals = [\"cat\", \"dog\", \"rabbit\", \"tiger\", \"elephant\"]\n",
    "animals [3]"
   ]
  },
  {
   "cell_type": "code",
   "execution_count": 4,
   "id": "e6679217-0259-497d-b266-3609d54c5ee8",
   "metadata": {},
   "outputs": [
    {
     "data": {
      "text/plain": [
       "'rabbit'"
      ]
     },
     "execution_count": 4,
     "metadata": {},
     "output_type": "execute_result"
    }
   ],
   "source": [
    "animals [-3]"
   ]
  },
  {
   "cell_type": "code",
   "execution_count": 5,
   "id": "48710453-86f8-499c-acfa-10b8b9a0693d",
   "metadata": {},
   "outputs": [
    {
     "data": {
      "text/plain": [
       "['rabbit', 'tiger', 'elephant']"
      ]
     },
     "execution_count": 5,
     "metadata": {},
     "output_type": "execute_result"
    }
   ],
   "source": [
    "animals [2:5]"
   ]
  },
  {
   "cell_type": "code",
   "execution_count": null,
   "id": "ec7dab2b-e006-4c7a-9707-0bc42e05128c",
   "metadata": {},
   "outputs": [],
   "source": [
    "Q2.\n",
    "\n",
    "Add \"lion\" to the list of animals by list method append\n",
    "\n",
    "Remove \"rabbit\" from the list by list method remove\n",
    "\n",
    "Print the updated list\n"
   ]
  },
  {
   "cell_type": "code",
   "execution_count": 10,
   "id": "83f5f3de-4d1f-4d67-9915-6fd476c50c4f",
   "metadata": {},
   "outputs": [
    {
     "name": "stdout",
     "output_type": "stream",
     "text": [
      "Updated list of animals:\n",
      "['cat', 'dog', 'tiger', 'elephant', 'lion']\n"
     ]
    }
   ],
   "source": [
    "animals = [\"cat\", \"dog\", \"rabbit\", \"tiger\", \"elephant\"]\n",
    "\n",
    "animals.append(\"lion\")\n",
    "animals.remove(\"rabbit\")\n",
    "\n",
    "print(\"Updated list of animals:\")\n",
    "print(animals)"
   ]
  },
  {
   "cell_type": "raw",
   "id": "403a1c40-54e2-400a-85e3-bbd2d8e26a8e",
   "metadata": {},
   "source": [
    "Q3.\n",
    "\n",
    "basket = [[\"apple\", \"banana\", \"mango\"], [\"red\", \"blue\", \"green\", \"black\"]]\n",
    "\n",
    "- print list of fruits\n",
    "- print list of colors\n",
    "- print second fruit by negative indexing\n",
    "- replace color \"blue\" with \"white\"\n",
    "- print length of colors list\n"
   ]
  },
  {
   "cell_type": "code",
   "execution_count": 13,
   "id": "70474e7d-2a6a-4ac2-9ed4-0e48cfdc9f62",
   "metadata": {},
   "outputs": [
    {
     "name": "stdout",
     "output_type": "stream",
     "text": [
      "fruits: ['apple', 'banana', 'mango']\n"
     ]
    }
   ],
   "source": [
    "basket = [[ \"apple\", \"banana\", \"mango\"], [\"red\", \"blue\", \"green\", \"black\"]]\n",
    "print (\"fruits:\", basket [0])"
   ]
  },
  {
   "cell_type": "code",
   "execution_count": 15,
   "id": "10d41c33-8550-479f-aafe-4bac6cb01421",
   "metadata": {},
   "outputs": [
    {
     "name": "stdout",
     "output_type": "stream",
     "text": [
      "fruits: ['red', 'blue', 'green', 'black']\n"
     ]
    }
   ],
   "source": [
    "print (\"fruits:\", basket [1])"
   ]
  },
  {
   "cell_type": "code",
   "execution_count": 16,
   "id": "4a5405ce-4624-4909-93dd-7168c1023071",
   "metadata": {},
   "outputs": [
    {
     "name": "stdout",
     "output_type": "stream",
     "text": [
      "banana\n"
     ]
    }
   ],
   "source": [
    "print (basket [0][-2])"
   ]
  },
  {
   "cell_type": "code",
   "execution_count": 18,
   "id": "e3e4cdd0-5e29-42eb-bcc0-17449acd9392",
   "metadata": {},
   "outputs": [
    {
     "name": "stdout",
     "output_type": "stream",
     "text": [
      "['red', 'white', 'green', 'black']\n"
     ]
    }
   ],
   "source": [
    "basket [1][1] = \"white\"\n",
    "print (basket [1])"
   ]
  },
  {
   "cell_type": "code",
   "execution_count": 19,
   "id": "0639f404-e922-436a-963c-ee7f84f57d31",
   "metadata": {},
   "outputs": [
    {
     "name": "stdout",
     "output_type": "stream",
     "text": [
      "4\n"
     ]
    }
   ],
   "source": [
    "print(len(basket[1]))"
   ]
  },
  {
   "cell_type": "markdown",
   "id": "3ca8cfb0-3d6c-479d-a2da-78b1064dd990",
   "metadata": {},
   "source": [
    "Q4.\n",
    "\n",
    "food = [\"pizza\", \"burger\", \"fries\", \"burger\", \"pasta\", \"burger\", \"biryani\", \"fries]\n",
    "\n",
    "- Add \"sandwich\" to the end of the list.\n",
    "- Insert \"biryani\" at index 2."
   ]
  },
  {
   "cell_type": "code",
   "execution_count": 24,
   "id": "35820d59-677a-4778-a45c-d2e2b90715d7",
   "metadata": {},
   "outputs": [],
   "source": [
    "food = [\"pizza\", \"burger\", \"fries\", \"burger\", \"pasta\", \"burger\", \"biryani\", \"fries\"]\n"
   ]
  },
  {
   "cell_type": "code",
   "execution_count": 21,
   "id": "3bc268f3-19f7-4274-9d9a-528bc2e5827b",
   "metadata": {},
   "outputs": [],
   "source": [
    "food.append (\"sandwich\")"
   ]
  },
  {
   "cell_type": "code",
   "execution_count": 23,
   "id": "93fa3032-1c61-4a93-8a53-5ab9bb5abe9a",
   "metadata": {},
   "outputs": [
    {
     "data": {
      "text/plain": [
       "['pizza',\n",
       " 'burger',\n",
       " 'fries',\n",
       " 'burger',\n",
       " 'pasta',\n",
       " 'burger',\n",
       " 'biryani',\n",
       " 'fries',\n",
       " 'sandwich']"
      ]
     },
     "execution_count": 23,
     "metadata": {},
     "output_type": "execute_result"
    }
   ],
   "source": [
    "food"
   ]
  },
  {
   "cell_type": "code",
   "execution_count": 25,
   "id": "628b181a-6950-4f7f-8151-17eda0b97cfa",
   "metadata": {},
   "outputs": [
    {
     "data": {
      "text/plain": [
       "['pizza',\n",
       " 'burger',\n",
       " 'biryani',\n",
       " 'fries',\n",
       " 'burger',\n",
       " 'pasta',\n",
       " 'burger',\n",
       " 'biryani',\n",
       " 'fries']"
      ]
     },
     "execution_count": 25,
     "metadata": {},
     "output_type": "execute_result"
    }
   ],
   "source": [
    "food.insert(2,\"biryani\")\n",
    "food"
   ]
  },
  {
   "cell_type": "markdown",
   "id": "cf5f5575-7d59-4e56-9d39-0be5fafbb537",
   "metadata": {},
   "source": [
    "Q5.\n",
    "\n",
    "- Sort the food list in alphabetical order\n",
    "- Reverse the order of the list food"
   ]
  },
  {
   "cell_type": "code",
   "execution_count": 28,
   "id": "c2281880-e09e-4185-bbfe-e264aa9552bf",
   "metadata": {},
   "outputs": [
    {
     "name": "stdout",
     "output_type": "stream",
     "text": [
      "food list sorted in alphabetical order:\n"
     ]
    },
    {
     "data": {
      "text/plain": [
       "['biryani',\n",
       " 'biryani',\n",
       " 'burger',\n",
       " 'burger',\n",
       " 'burger',\n",
       " 'fries',\n",
       " 'fries',\n",
       " 'pasta',\n",
       " 'pizza']"
      ]
     },
     "execution_count": 28,
     "metadata": {},
     "output_type": "execute_result"
    }
   ],
   "source": [
    "food.sort()\n",
    "print (\"food list sorted in alphabetical order:\")\n",
    "food"
   ]
  },
  {
   "cell_type": "code",
   "execution_count": 29,
   "id": "d5cd087f-75bc-4542-9c7d-bc3fce3dcfc2",
   "metadata": {},
   "outputs": [
    {
     "name": "stdout",
     "output_type": "stream",
     "text": [
      "Food list with the order reversed:\n",
      "['pizza', 'pasta', 'fries', 'fries', 'burger', 'burger', 'burger', 'biryani', 'biryani']\n"
     ]
    }
   ],
   "source": [
    "food.reverse()\n",
    "print(\"Food list with the order reversed:\")\n",
    "print(food)"
   ]
  },
  {
   "cell_type": "markdown",
   "id": "7c8ac174-9e88-44a6-a51d-323ef7f4a9f3",
   "metadata": {},
   "source": [
    "Q6.\n",
    "\n",
    "- Find the index of \"pasta\" and print it from the list of food\n",
    "- Count how many times \"pizza\" appears in list food"
   ]
  },
  {
   "cell_type": "code",
   "execution_count": 32,
   "id": "148a942b-05cb-45b8-8c14-875449487ee6",
   "metadata": {},
   "outputs": [
    {
     "name": "stdout",
     "output_type": "stream",
     "text": [
      "The index of 'pasta' is: 2\n"
     ]
    }
   ],
   "source": [
    "food = ['sandwich', 'pizza', 'pasta', 'fries', 'fries', 'burger', 'burger', 'burger', 'biryani', 'biryani']\n",
    "\n",
    "# Find the index of \"pasta\n",
    "pasta_index = food.index(\"pasta\")\n",
    "print(f\"The index of 'pasta' is: {pasta_index}\")\n",
    "\n"
   ]
  },
  {
   "cell_type": "code",
   "execution_count": 31,
   "id": "32b41362-93ea-4f51-bf0d-609eb940b88a",
   "metadata": {},
   "outputs": [
    {
     "name": "stdout",
     "output_type": "stream",
     "text": [
      "The number of times 'pizza' appears is: 1\n"
     ]
    }
   ],
   "source": [
    "pizza_count = food.count(\"pizza\")\n",
    "print(f\"The number of times 'pizza' appears is: {pizza_count}\")"
   ]
  },
  {
   "cell_type": "markdown",
   "id": "97b8c84c-203f-479d-8ffc-497876d599f7",
   "metadata": {},
   "source": [
    "\n",
    "- Remove \"burger\" (only the first one) from the list food.\n",
    "- Remove the last item using pop() and print it."
   ]
  },
  {
   "cell_type": "code",
   "execution_count": 33,
   "id": "766f813a-ab2b-42d3-8074-9f98aa59a8c3",
   "metadata": {},
   "outputs": [
    {
     "data": {
      "text/plain": [
       "['sandwich',\n",
       " 'pizza',\n",
       " 'pasta',\n",
       " 'fries',\n",
       " 'fries',\n",
       " 'burger',\n",
       " 'burger',\n",
       " 'burger',\n",
       " 'biryani',\n",
       " 'biryani']"
      ]
     },
     "execution_count": 33,
     "metadata": {},
     "output_type": "execute_result"
    }
   ],
   "source": [
    "food"
   ]
  },
  {
   "cell_type": "code",
   "execution_count": 35,
   "id": "5449ce59-921b-483f-a3df-6573c5eca0f3",
   "metadata": {},
   "outputs": [
    {
     "name": "stdout",
     "output_type": "stream",
     "text": [
      "\n",
      "Item removed using pop(): biryani\n",
      "Final food list:\n",
      "['sandwich', 'pizza', 'pasta', 'fries', 'fries', 'burger', 'burger', 'burger', 'biryani']\n"
     ]
    }
   ],
   "source": [
    "removed_item = food.pop()\n",
    "print(\"\\nItem removed using pop():\", removed_item)\n",
    "print(\"Final food list:\")\n",
    "print(food)"
   ]
  },
  {
   "cell_type": "markdown",
   "id": "0ff03e2f-5bb1-4541-b4fb-3c28222c705d",
   "metadata": {},
   "source": [
    "Q8.\n",
    "\n",
    "- Make a copy of the list of food and name it my_food\n",
    "- Clear the original food list."
   ]
  },
  {
   "cell_type": "code",
   "execution_count": 36,
   "id": "86b5ed53-a38e-468f-a319-d8d6c5218555",
   "metadata": {},
   "outputs": [
    {
     "data": {
      "text/plain": [
       "['sandwich',\n",
       " 'pizza',\n",
       " 'pasta',\n",
       " 'fries',\n",
       " 'fries',\n",
       " 'burger',\n",
       " 'burger',\n",
       " 'burger',\n",
       " 'biryani']"
      ]
     },
     "execution_count": 36,
     "metadata": {},
     "output_type": "execute_result"
    }
   ],
   "source": [
    "food"
   ]
  },
  {
   "cell_type": "code",
   "execution_count": 39,
   "id": "fe1406ef-4dc1-40a5-b6c5-e8dfa2155aab",
   "metadata": {},
   "outputs": [
    {
     "name": "stdout",
     "output_type": "stream",
     "text": [
      "Original 'food' list after clearing:\n",
      "[]\n",
      "\n",
      "Copied 'my_food' list:\n",
      "[]\n"
     ]
    }
   ],
   "source": [
    "my_food = food.copy()\n",
    "\n",
    "food.clear()\n",
    "\n",
    "print(\"Original 'food' list after clearing:\")\n",
    "print(food)\n",
    "\n",
    "print(\"\\nCopied 'my_food' list:\")\n",
    "print(my_food)"
   ]
  },
  {
   "cell_type": "raw",
   "id": "d96cbcf7-4afd-4085-ba24-d49f476c707e",
   "metadata": {},
   "source": [
    "Q9.\n",
    "\n",
    "Count nested list [1,2] by count method\n",
    "\n",
    "data = [[1, 2],[3, 4],[1, 2],[2,4],[1, 2],[1,3,6]]\n"
   ]
  },
  {
   "cell_type": "code",
   "execution_count": 40,
   "id": "9cf40e96-2c38-41f2-8798-6d1bbf0dd9ef",
   "metadata": {},
   "outputs": [
    {
     "name": "stdout",
     "output_type": "stream",
     "text": [
      "The nested list [1, 2] appears 3 times.\n"
     ]
    }
   ],
   "source": [
    "data = [[1, 2], [3, 4], [1, 2], [2, 4], [1, 2], [1, 3, 6]]\n",
    "count_nested_list = data.count([1, 2])\n",
    "print(f\"The nested list [1, 2] appears {count_nested_list} times.\")"
   ]
  },
  {
   "cell_type": "markdown",
   "id": "d57341b9-1c68-438d-ba5f-9363de21dd4a",
   "metadata": {},
   "source": [
    "Q10.\n",
    "\n",
    "Replace 'cat' with 'found you'\n",
    "\n",
    "\n",
    "odd_item = ['almond','peanut',['onion','potato','tomato',['apple','mango','cherry',['cat'],'banana'],'lemon',],'walnut']"
   ]
  },
  {
   "cell_type": "code",
   "execution_count": 41,
   "id": "4c3e77b7-3a9b-4a3c-8788-9e2251ea8649",
   "metadata": {},
   "outputs": [
    {
     "name": "stdout",
     "output_type": "stream",
     "text": [
      "['almond', 'peanut', ['onion', 'potato', 'tomato', ['apple', 'mango', 'cherry', ['found you'], 'banana'], 'lemon'], 'walnut']\n"
     ]
    }
   ],
   "source": [
    "odd_item = ['almond','peanut',['onion','potato','tomato',['apple','mango','cherry',['cat'],'banana'],'lemon',],'walnut']\n",
    "\n",
    "odd_item[2][3][3][0] = 'found you'\n",
    "print(odd_item)"
   ]
  },
  {
   "cell_type": "code",
   "execution_count": null,
   "id": "e41bbdd6-d641-4df6-8ac0-69069b07b3a7",
   "metadata": {},
   "outputs": [],
   "source": []
  }
 ],
 "metadata": {
  "kernelspec": {
   "display_name": "Python [conda env:base] *",
   "language": "python",
   "name": "conda-base-py"
  },
  "language_info": {
   "codemirror_mode": {
    "name": "ipython",
    "version": 3
   },
   "file_extension": ".py",
   "mimetype": "text/x-python",
   "name": "python",
   "nbconvert_exporter": "python",
   "pygments_lexer": "ipython3",
   "version": "3.13.5"
  }
 },
 "nbformat": 4,
 "nbformat_minor": 5
}
