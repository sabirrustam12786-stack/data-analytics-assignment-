{
 "cells": [
  {
   "cell_type": "markdown",
   "id": "94b44a26-a3e1-40b6-a2f8-5288da630659",
   "metadata": {},
   "source": [
    "Q1. Write a Python function called add_numbers that takes two numbers as arguments and returns their sum. Then, test the function by calling it with two numbers of your choice.\n"
   ]
  },
  {
   "cell_type": "code",
   "execution_count": 1,
   "id": "c5296107",
   "metadata": {
    "vscode": {
     "languageId": "ruby"
    }
   },
   "outputs": [
    {
     "name": "stdout",
     "output_type": "stream",
     "text": [
      "the sum of 5 and 10 is 15\n"
     ]
    }
   ],
   "source": [
    "def add_numbers(num1, num2):\n",
    " return num1 + num2\n",
    "\n",
    "\n",
    "number1= 5\n",
    "number2 = 10\n",
    "sum_result = add_numbers(number1, number2)\n",
    "\n",
    "\n",
    "print (f\"the sum of {number1} and {number2} is {sum_result}\")\n"
   ]
  },
  {
   "cell_type": "markdown",
   "id": "2df82858-cc42-45be-b4d8-a6d24073bb06",
   "metadata": {},
   "source": [
    "Q2. Write a Python function count_vowels that accepts a string and returns the number of vowels a, e, i, o, u, A, E, I, O, U in that string.\n",
    "\n",
    "- Example: 'Welcome'\n",
    "- Output: 3 vowels"
   ]
  },
  {
   "cell_type": "code",
   "execution_count": 3,
   "id": "a5a01f84",
   "metadata": {},
   "outputs": [
    {
     "name": "stdout",
     "output_type": "stream",
     "text": [
      "The number of vowels in 'Welcome' is: 3\n",
      "The number of vowels in 'Python is a great language' is: 9\n"
     ]
    }
   ],
   "source": [
    "def count_vowels(input_string):\n",
    "  \n",
    "  vowels = \"aeiouAEIOU\"\n",
    "  vowel_count = 0\n",
    "  for char in input_string:\n",
    "    if char in vowels:\n",
    "      vowel_count += 1\n",
    "  return vowel_count\n",
    "my_string = \"Welcome\"\n",
    "vowel_number = count_vowels(my_string)\n",
    "print(f\"The number of vowels in '{my_string}' is: {vowel_number}\")\n",
    "\n",
    "my_string = \"Python is a great language\"\n",
    "vowel_number = count_vowels(my_string)\n",
    "print(f\"The number of vowels in '{my_string}' is: {vowel_number}\")"
   ]
  },
  {
   "cell_type": "code",
   "execution_count": null,
   "id": "31bd5591",
   "metadata": {},
   "outputs": [],
   "source": []
  },
  {
   "cell_type": "markdown",
   "id": "14ada7c2-26ff-467b-9856-2bae9d7b673f",
   "metadata": {},
   "source": [
    "Q3. Create a Python function called currency_converter() that takes two arguments:\n",
    "\n",
    "- amount: The amount of money to be converted (in USD).\n",
    "- exchange_rate (default is 280): The conversion rate from USD to another currency (e.g., PKR). You can assume the default rate is 1 USD = 280 PKR.\n",
    "- \n",
    "The function should return a message showing how much the given amount is worth in the target currency (PKR).\n",
    "\n",
    "Expected Output:\n",
    "\n",
    "'100 USD is equivalent to 28000 PKR'"
   ]
  },
  {
   "cell_type": "code",
   "execution_count": null,
   "id": "4a94af6b",
   "metadata": {},
   "outputs": [
    {
     "name": "stdout",
     "output_type": "stream",
     "text": [
      "100 USD is equivalent to 28000 PKR\n",
      "50 USD is equivalent to 15000 PKR\n"
     ]
    }
   ],
   "source": [
    "def currency_converter(amount, exchange_rate=280):\n",
    "\n",
    "\n",
    "  converted_amount = amount * exchange_rate\n",
    "  return f\"{amount} USD is equivalent to {converted_amount} PKR\"\n",
    "\n",
    "\n",
    "print(currency_converter(100))\n",
    "print(currency_converter(50, 300))"
   ]
  },
  {
   "cell_type": "markdown",
   "id": "2be859c9-23bb-4cff-abee-092295757847",
   "metadata": {},
   "source": [
    "Q4. Write a Python function display_student_info that accepts the following details about a student:\n",
    "\n",
    "- name (Keyword argument): The name of the student.\n",
    "- age (Keyword argument): The age of the student.\n",
    "- grade (Keyword argument): The grade the student is in.\n",
    "- school (Keyword argument): The name of the school the student attends.\n",
    "\n",
    "Expected Output:\n",
    "\n",
    "- Name: John Doe\n",
    "- Age: 15\n",
    "- Grade: 10th\n",
    "- School: Greenwood High"
   ]
  },
  {
   "cell_type": "code",
   "execution_count": 1,
   "id": "bf30959e",
   "metadata": {},
   "outputs": [
    {
     "name": "stdout",
     "output_type": "stream",
     "text": [
      "Name: john Doe\n",
      "age: 15\n",
      "grade: 10th\n",
      "school: greenwood high\n"
     ]
    }
   ],
   "source": [
    "def display_student_info(name, age, grade, school):\n",
    "  print(f\"Name: {name}\")\n",
    "  print(f\"age: {age}\")\n",
    "  print(f\"grade: {grade}\")\n",
    "  print(f\"school: {school}\")\n",
    "\n",
    "display_student_info(\n",
    "    name= \"john Doe\",\n",
    "    age= 15,\n",
    "    grade= \"10th\",\n",
    "    school=\"greenwood high\"\n",
    ")"
   ]
  },
  {
   "cell_type": "markdown",
   "id": "6fa029c5-095c-463f-b29d-ff8469cbdfea",
   "metadata": {},
   "source": [
    "Q5. Write a Python function calculate_price that accepts two positional arguments:\n",
    "\n",
    "- price: The price of a single item.\n",
    "- quantity: The number of items bought.\n",
    "- The function should return the total price by multiplying price and quantity.\n"
   ]
  },
  {
   "cell_type": "code",
   "execution_count": 4,
   "id": "8ae96aa8",
   "metadata": {},
   "outputs": [
    {
     "name": "stdout",
     "output_type": "stream",
     "text": [
      "The total price is: 52.5\n"
     ]
    }
   ],
   "source": [
    "def calculate_price(price, quantity):\n",
    "    \"\"\"\n",
    "    Calculates the total price of items.\n",
    "\n",
    "    Args:\n",
    "        price (float): The price of a single item.\n",
    "        quantity (int): The number of items.\n",
    "\n",
    "    Returns:\n",
    "        float: The total price.\n",
    "    \"\"\"\n",
    "    return price * quantity\n",
    "\n",
    "# Example usage:\n",
    "total = calculate_price(10.50, 5)\n",
    "print(f\"The total price is: {total}\")"
   ]
  },
  {
   "cell_type": "markdown",
   "id": "b0952c84-56d3-478a-8772-ba5434fc4f2f",
   "metadata": {},
   "source": [
    "Q6. Write a Python function display_prices that takes a product name and an arbitrary number of keyword arguments representing product prices. The function should display each product and its price.\n",
    "\n",
    "Expected Output:\n",
    "\n",
    "Product: Laptop\n",
    "\n",
    "Amazon: $800\n",
    "\n",
    "eBay: $750\n",
    "\n",
    "Walmart: $780"
   ]
  },
  {
   "cell_type": "code",
   "execution_count": 5,
   "id": "2d4eb25e",
   "metadata": {},
   "outputs": [
    {
     "name": "stdout",
     "output_type": "stream",
     "text": [
      "Product: Laptop\n",
      "\n",
      "Amazon:\n",
      "Ebay:\n",
      "Walmart:\n"
     ]
    }
   ],
   "source": [
    "def display_prices(product_name, **prices):\n",
    "  print(f\"Product: {product_name}\\n\")\n",
    "  for retailer, price in prices.items():\n",
    "    print(f\"{retailer.title()}:\")\n",
    "\n",
    "\n",
    "display_prices(\"Laptop\", Amazon=800, ebay=750, walmart=780)"
   ]
  },
  {
   "cell_type": "markdown",
   "id": "18d9013b-c0e4-4e14-82e7-6c0d03917322",
   "metadata": {},
   "source": [
    "Q7. Write a Python function find_max that takes arbitrary number of positional arguments and returns the maximum number."
   ]
  },
  {
   "cell_type": "code",
   "execution_count": 6,
   "id": "ff741959",
   "metadata": {},
   "outputs": [
    {
     "name": "stdout",
     "output_type": "stream",
     "text": [
      "25\n",
      "-1\n",
      "100\n",
      "None\n"
     ]
    }
   ],
   "source": [
    "def find_max(*numbers):\n",
    "    if not numbers:\n",
    "        return None\n",
    "    \n",
    "    max_num = numbers[0]\n",
    "    for num in numbers[1:]:\n",
    "        if num > max_num:\n",
    "            max_num = num\n",
    "    return max_num\n",
    "\n",
    "print(find_max(10, 5, 25, 15))\n",
    "print(find_max(-1, -5, -2))    \n",
    "print(find_max(100))           \n",
    "print(find_max())              "
   ]
  },
  {
   "cell_type": "markdown",
   "id": "5d99ddf7-24ba-4bc6-87fe-7ccabcdebeb4",
   "metadata": {},
   "source": [
    "Q8. \n",
    "\n",
    "Write a Python function calculate_rectangle that accepts the length and width of a rectangle as arguments. Inside this function, create two nested functions:\n",
    "\n",
    "- calculate_area: This function should calculate the area of the rectangle.\n",
    "- calculate_perimeter: This function should calculate the perimeter of the rectangle.\n",
    "- The main function should return both the area and the perimeter of the rectangle.\n",
    "\n",
    "Expected Output:\n",
    "\n",
    "Area: 15\n",
    "\n",
    "Perimeter: 16\n"
   ]
  },
  {
   "cell_type": "code",
   "execution_count": null,
   "id": "584ab965",
   "metadata": {},
   "outputs": [
    {
     "name": "stdout",
     "output_type": "stream",
     "text": [
      "Area: 15\n",
      "Perimeter: 16\n"
     ]
    }
   ],
   "source": [
    "def calculate_rectangle(length, width):\n",
    "    \n",
    "    def calculate_area():\n",
    "        return length * width\n",
    "\n",
    "    def calculate_perimeter():\n",
    "        return 2 * (length + width)\n",
    "\n",
    "    area = calculate_area()\n",
    "    perimeter = calculate_perimeter()\n",
    "    \n",
    "    return area, perimeter\n",
    "\n",
    "length = 5\n",
    "width = 3\n",
    "area, perimeter = calculate_rectangle(length, width)\n",
    "\n",
    "print(f\"Area: {area}\")\n",
    "print(f\"Perimeter: {perimeter}\")"
   ]
  },
  {
   "cell_type": "markdown",
   "id": "a668489b-a207-48a6-904e-fb7c2859e04d",
   "metadata": {},
   "source": [
    "Q9. Write a Python function taxi_fare(distance, rate=100) that calculates the taxi fare.\n",
    "The default rate is 100 PKR per km, but the user can also enter a custom rate.\n",
    "\n",
    "FORMULA: distance * rate\n",
    "\n",
    "Expected Output:\n",
    "\n",
    "- Taxi fare for 10 km = 1000 PKR (using default parameter)\n",
    "- Taxi fare for 15 km = 1800 PKR (custom rate)"
   ]
  },
  {
   "cell_type": "code",
   "execution_count": null,
   "id": "469daa14",
   "metadata": {},
   "outputs": [
    {
     "name": "stdout",
     "output_type": "stream",
     "text": [
      "Taxi fare for 10 km = 1000 PKR (using default parameter)\n",
      "Taxi fare for 15 km = 1800 PKR (custom rate)\n"
     ]
    }
   ],
   "source": [
    "def taxi_fare(distance, rate=100):\n",
    "    return distance * rate\n",
    "\n",
    "\n",
    "fare_default = taxi_fare(10)\n",
    "print(f\"Taxi fare for 10 km = {fare_default} PKR (using default parameter)\")\n",
    "\n",
    "fare_custom = taxi_fare(15, 120)\n",
    "print(f\"Taxi fare for 15 km = {fare_custom} PKR (custom rate)\")"
   ]
  },
  {
   "cell_type": "markdown",
   "id": "ed779581-c1bc-45a5-8971-687391e077a2",
   "metadata": {},
   "source": [
    "Q10.\n",
    "\n",
    "Write a Python function shopping_bill(price, quantity, discount=0) that uses nested functions:\n",
    "\n",
    "- An inner function calculate_total() → multiplies price * quantity.\n",
    "- An inner function apply_discount(total) → subtracts discount from total (but never below 0).\n",
    "\n",
    "The outer function should return the final bill amount.\n",
    "\n",
    "Expected Output:\n",
    "\n",
    "- Final Bill = 600 PKR (no discount)\n",
    "- Final Bill = 500 PKR (with discount)"
   ]
  },
  {
   "cell_type": "code",
   "execution_count": 9,
   "id": "23aed724",
   "metadata": {},
   "outputs": [
    {
     "name": "stdout",
     "output_type": "stream",
     "text": [
      "Final Bill = 600 PKR (no discount)\n",
      "Final Bill = 500 PKR (with discount)\n"
     ]
    }
   ],
   "source": [
    "def shopping_bill(price, quantity, discount=0):\n",
    "    def calculate_total():\n",
    "       \n",
    "        return price * quantity\n",
    "\n",
    "    def apply_discount(total):\n",
    "               return max(0, total - discount)\n",
    "\n",
    "    subtotal = calculate_total()\n",
    "    final_bill = apply_discount(subtotal)\n",
    "    \n",
    "    return final_bill\n",
    "\n",
    "# Example 1: No discount\n",
    "bill1 = shopping_bill(300, 2)\n",
    "print(f\"Final Bill = {bill1} PKR (no discount)\")\n",
    "\n",
    "# Example 2: With discount\n",
    "bill2 = shopping_bill(300, 2, discount=100)\n",
    "print(f\"Final Bill = {bill2} PKR (with discount)\")"
   ]
  },
  {
   "cell_type": "code",
   "execution_count": null,
   "id": "ee0ac957-86e2-49bc-adc3-861ac984d055",
   "metadata": {},
   "outputs": [],
   "source": []
  },
  {
   "cell_type": "code",
   "execution_count": null,
   "id": "cc1e8ceb-2efd-48f0-b55b-a371c15a5f1a",
   "metadata": {},
   "outputs": [],
   "source": []
  },
  {
   "cell_type": "code",
   "execution_count": null,
   "id": "41bfc859-bda5-4e9c-a882-06074b5aaa8a",
   "metadata": {},
   "outputs": [],
   "source": []
  },
  {
   "cell_type": "code",
   "execution_count": null,
   "id": "0f6dce26-23d8-440d-871f-9c5286747026",
   "metadata": {},
   "outputs": [],
   "source": []
  },
  {
   "cell_type": "code",
   "execution_count": null,
   "id": "d7242935-7424-4d92-a5e5-cbf66fe8ac52",
   "metadata": {},
   "outputs": [],
   "source": []
  }
 ],
 "metadata": {
  "kernelspec": {
   "display_name": "base",
   "language": "python",
   "name": "python3"
  },
  "language_info": {
   "codemirror_mode": {
    "name": "ipython",
    "version": 3
   },
   "file_extension": ".py",
   "mimetype": "text/x-python",
   "name": "python",
   "nbconvert_exporter": "python",
   "pygments_lexer": "ipython3",
   "version": "3.13.5"
  }
 },
 "nbformat": 4,
 "nbformat_minor": 5
}
