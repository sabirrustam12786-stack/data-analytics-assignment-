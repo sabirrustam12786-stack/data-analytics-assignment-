{
 "cells": [
  {
   "cell_type": "markdown",
   "id": "1c7982c2-c2ab-4f66-9ad7-be3a6b69e030",
   "metadata": {},
   "source": [
    "1-\n",
    "\n",
    "text = 'hello python world'\n",
    "\n",
    "Replace spaces with underscores in the string (e.g., \"hello python world\" → \"hello_python_world\").\n",
    "\n",
    "Split the modified string (e.g., \"hello_python_world\" → ['hello', 'python', 'world']).\n",
    "\n",
    "Print all two results\n",
    "\n",
    "Hint: Use string methods"
   ]
  },
  {
   "cell_type": "code",
   "execution_count": 3,
   "id": "94831cbb-7e9f-48ca-8e93-add171c0a91b",
   "metadata": {},
   "outputs": [
    {
     "name": "stdout",
     "output_type": "stream",
     "text": [
      "Modified string: hello_python_world\n",
      "Split list: ['hello', 'python', 'world']\n"
     ]
    }
   ],
   "source": [
    "\n",
    "text = 'hello python world'\n",
    "modified_text = text.replace(' ', '_')\n",
    "\n",
    "split_list = modified_text.split('_')\n",
    "\n",
    "print(f\"Modified string: {modified_text}\")\n",
    "print(f\"Split list: {split_list}\")"
   ]
  },
  {
   "cell_type": "markdown",
   "id": "1e92038f-c309-4b83-b770-e5e6448e22c0",
   "metadata": {},
   "source": [
    "- You have a product code that follows the format \"SKU-12345-XYZ\".\n",
    "\n",
    "Find the first position of the dash (-).\n",
    "\n",
    "Count the number of dashes (-) in the product code.\n",
    "\n",
    "Remove the \"SKU-\" prefix and \"-XYZ\" suffix from the product code, Extract the numeric part 12345\n",
    "\n",
    "product_code = \"SKU-12345-XYZ\"\n",
    "\n",
    "Hint: Use String Methods"
   ]
  },
  {
   "cell_type": "code",
   "execution_count": 7,
   "id": "fe9bfcbf-8f8f-4177-85cd-0ff0566e48cf",
   "metadata": {},
   "outputs": [
    {
     "name": "stdout",
     "output_type": "stream",
     "text": [
      "First dash position: 3\n",
      "Dash count: 2\n",
      "Numeric part: 12345\n"
     ]
    }
   ],
   "source": [
    "product_code = \"SKU-12345-XYZ\"\n",
    "first_dash_position = product_code.find('-')\n",
    "\n",
    "dash_count = product_code.count('-')\n",
    "numeric_part = product_code.removeprefix('SKU-').removesuffix('-XYZ')\n",
    "print(f\"First dash position: {first_dash_position}\")\n",
    "print(f\"Dash count: {dash_count}\")\n",
    "print(f\"Numeric part: {numeric_part}\")"
   ]
  },
  {
   "cell_type": "markdown",
   "id": "1ab12acc-d5b8-4ca9-8928-d0edbd3618e7",
   "metadata": {},
   "source": [
    "3- Convert a string to Title Case.\n",
    "\n",
    "text_1 = \"hello world\""
   ]
  },
  {
   "cell_type": "code",
   "execution_count": 8,
   "id": "760d7d65-67db-4ec9-b26a-492381bba2d5",
   "metadata": {},
   "outputs": [
    {
     "name": "stdout",
     "output_type": "stream",
     "text": [
      "orignal string: hello world\n",
      "title case string: Hello World\n"
     ]
    }
   ],
   "source": [
    "text_1 = \"hello world\"\n",
    "title_case_text = text_1.title()\n",
    "print (f\"orignal string: {text_1}\")\n",
    "print (f\"title case string: {title_case_text}\")\n"
   ]
  },
  {
   "cell_type": "markdown",
   "id": "344ca7f0-b0d4-4ccd-aca9-667beee36210",
   "metadata": {},
   "source": [
    "4- Capitalize the first letter of a string.\n",
    "\n",
    "text_2 = \"python programming\""
   ]
  },
  {
   "cell_type": "code",
   "execution_count": 13,
   "id": "e01cfdfa-2e1d-4189-ae13-4055c2899420",
   "metadata": {},
   "outputs": [
    {
     "name": "stdout",
     "output_type": "stream",
     "text": [
      "Original string: python programming\n",
      "Capitalized string: Python programming\n"
     ]
    }
   ],
   "source": [
    "text_2 = \"python programming\"\n",
    "capitalized_text = text_2.capitalize()\n",
    "print(f\"Original string: {text_2}\")\n",
    "print(f\"Capitalized string: {capitalized_text}\")"
   ]
  },
  {
   "cell_type": "code",
   "execution_count": 17,
   "id": "84208780-49fa-4d01-974c-1a0245407ecb",
   "metadata": {},
   "outputs": [
    {
     "name": "stdout",
     "output_type": "stream",
     "text": [
      "Orignal string: learn PYTHON IS AWESOME\n",
      "Title case text string:Learn Python Is Awesome\n",
      "Final result after swapping case: lEARN pYTHON iS aWESOME\n"
     ]
    }
   ],
   "source": [
    "text1 = \"learn PYTHON IS AWESOME\"\n",
    "title_case_text = text1.title ()\n",
    "swapped_case_text = title_case_text.swapcase()\n",
    "print(f\"Orignal string: {text1}\")\n",
    "print(f\"Title case text string:{title_case_text}\")\n",
    "print (f\"Final result after swapping case: {swapped_case_text}\")"
   ]
  },
  {
   "cell_type": "markdown",
   "id": "2c6e14a5-92f7-40cf-8bcd-6d8657224607",
   "metadata": {},
   "source": [
    "6- \n",
    "\n",
    "Write Python code to check and print whether the string satisfies the following:\n",
    "\n",
    "Is alphanumeric?\n",
    "\n",
    "Is alphabetic only?\n",
    "\n",
    "text2 = \"HelloWorld123\""
   ]
  },
  {
   "cell_type": "code",
   "execution_count": 18,
   "id": "2068490d-d6b9-4e1b-8574-58a05e259c61",
   "metadata": {},
   "outputs": [
    {
     "name": "stdout",
     "output_type": "stream",
     "text": [
      "Is 'Helloworld123' alphanumeric? True\n",
      "is 'Helloworld123' alphabetic only? False\n"
     ]
    }
   ],
   "source": [
    "text2 = \"Helloworld123\"\n",
    "is_alphanumeric = text2.isalnum()\n",
    "is_alphabetic = text2.isalpha()\n",
    "\n",
    "print(f\"Is '{text2}' alphanumeric? {is_alphanumeric}\")\n",
    "print (f\"is '{text2}' alphabetic only? {is_alphabetic}\")\n"
   ]
  },
  {
   "cell_type": "raw",
   "id": "e6431d2d-b024-4ad6-91c5-c826d49fd4b0",
   "metadata": {},
   "source": [
    "7- \n",
    "\n",
    "Write Python code to check and print whether the string satisfies the following:\n",
    "\n",
    "Is the string made up of digits only?\n",
    "\n",
    "Is the string all lowercase?\n",
    "\n",
    "text3 = \"helloworld\""
   ]
  },
  {
   "cell_type": "code",
   "execution_count": 21,
   "id": "8921e8d2-ab08-4335-b42d-77f8563e87f7",
   "metadata": {},
   "outputs": [
    {
     "name": "stdout",
     "output_type": "stream",
     "text": [
      "Is 'helloword' made up of digits only ?False\n",
      "Is'helloword'all lowercase? True\n"
     ]
    }
   ],
   "source": [
    "text3 = \"helloword\"\n",
    "is_digit = text3.isdigit()\n",
    "is_lowercase = text3.islower()\n",
    "print(f\"Is '{text3}' made up of digits only ?{is_digit}\")\n",
    "print (f\"Is'{text3}'all lowercase? {is_lowercase}\")\n",
    "\n"
   ]
  },
  {
   "cell_type": "markdown",
   "id": "a2eb6f0b-f90d-4952-b406-aaff86399b39",
   "metadata": {},
   "source": [
    "8-\n",
    "\n",
    "Write Python code to check and print whether the string satisfies the following:\n",
    "\n",
    "Is the string all uppercase?\n",
    "\n",
    "Is the string titlecased?\n",
    "\n",
    "text4 = 'Hi We Are Learning Python'"
   ]
  },
  {
   "cell_type": "code",
   "execution_count": 24,
   "id": "5348a054-9bc0-45bc-95fd-e76dcb3dc5cf",
   "metadata": {},
   "outputs": [
    {
     "name": "stdout",
     "output_type": "stream",
     "text": [
      "Is 'Hi We Are Learning python'  all uppercase? False\n",
      "Is 'Hi We Are Learning python' titlecased? False\n"
     ]
    }
   ],
   "source": [
    "text4 = 'Hi We Are Learning python'\n",
    "is_uppercase = text4.isupper()\n",
    "is_titlecased = text4.istitle()\n",
    "print (f\"Is '{text4}'  all uppercase? {is_uppercase}\")\n",
    "print (f\"Is '{text4}' titlecased? {is_titlecased}\")"
   ]
  },
  {
   "cell_type": "markdown",
   "id": "c9467303-4d18-4cee-9b4a-a7c504d8845f",
   "metadata": {},
   "source": [
    "9- \n",
    "\n",
    "Write Python code to check and print whether the string:\n",
    "\n",
    "Starts with \"data\"\n",
    "\n",
    "Ends with \".csv\"\n",
    "\n",
    "text5 = \"data_report_2023.csv\""
   ]
  },
  {
   "cell_type": "code",
   "execution_count": 28,
   "id": "8ac8f303-e16b-4d31-9920-c047120426b1",
   "metadata": {},
   "outputs": [
    {
     "name": "stdout",
     "output_type": "stream",
     "text": [
      "Does 'data_report_2023.csv'starts with 'data'?True\n",
      "Does 'data_report_2023.csv'ends with 'csv'? True\n"
     ]
    }
   ],
   "source": [
    "text5 = \"data_report_2023.csv\"\n",
    "starts_with_data = text5.startswith(\"data\")\n",
    "ends_with_csv = text5.endswith(\"csv\")\n",
    "print (f\"Does '{text5}'starts with 'data'?{starts_with_data}\")\n",
    "print (f\"Does '{text5}'ends with 'csv'? {ends_with_csv}\")"
   ]
  },
  {
   "cell_type": "markdown",
   "id": "7ac3ad7f-d4e8-49f9-8d3d-9e87b85f4b18",
   "metadata": {},
   "source": [
    "10-\n",
    "\n",
    "Write Python code to:\n",
    "\n",
    "Count how many times \"banana\" appears in the string.\n",
    "\n",
    "fruit = \"banana bandana banana\" "
   ]
  },
  {
   "cell_type": "code",
   "execution_count": 29,
   "id": "d9952945-2b34-4d11-ad5e-8b46896e388d",
   "metadata": {},
   "outputs": [
    {
     "name": "stdout",
     "output_type": "stream",
     "text": [
      "the word 'banana' appears 3 times in the string.\n"
     ]
    }
   ],
   "source": [
    "fruit = \"banana banana banana\"\n",
    "count_banana = fruit.count(\"banana\")\n",
    "print (f\"the word 'banana' appears {count_banana} times in the string.\")"
   ]
  },
  {
   "cell_type": "code",
   "execution_count": null,
   "id": "50515634-bff4-4784-881a-b2ce52968bae",
   "metadata": {},
   "outputs": [],
   "source": []
  },
  {
   "cell_type": "code",
   "execution_count": null,
   "id": "c38ffaa2-d488-49b1-818c-7fafec4d9270",
   "metadata": {},
   "outputs": [],
   "source": []
  }
 ],
 "metadata": {
  "kernelspec": {
   "display_name": "Python [conda env:base] *",
   "language": "python",
   "name": "conda-base-py"
  },
  "language_info": {
   "codemirror_mode": {
    "name": "ipython",
    "version": 3
   },
   "file_extension": ".py",
   "mimetype": "text/x-python",
   "name": "python",
   "nbconvert_exporter": "python",
   "pygments_lexer": "ipython3",
   "version": "3.13.5"
  }
 },
 "nbformat": 4,
 "nbformat_minor": 5
}
